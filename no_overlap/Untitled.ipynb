{
 "cells": [
  {
   "cell_type": "code",
   "execution_count": 25,
   "metadata": {},
   "outputs": [],
   "source": [
    "import pandas as pd\n",
    "import matplotlib.pyplot as plt\n",
    "%matplotlib inline"
   ]
  },
  {
   "cell_type": "code",
   "execution_count": 14,
   "metadata": {},
   "outputs": [],
   "source": [
    "with open(\"heru_profit.dat\",\"w\") as f:\n",
    "    for energy in range(1000,5001,100):\n",
    "        df = pd.read_csv(\"heru_{}.csv\".format(energy),header=None)\n",
    "        df.mean()\n",
    "        string = \"{} {}\\n\".format(energy,df.mean().loc[1])\n",
    "        f.write(string)\n",
    "        "
   ]
  },
  {
   "cell_type": "code",
   "execution_count": 15,
   "metadata": {},
   "outputs": [],
   "source": [
    "with open(\"alg_profit.dat\",\"w\") as f:\n",
    "    for energy in range(1000,5001,100):\n",
    "        df = pd.read_csv(\"alg_{}.csv\".format(energy),header=None)\n",
    "        df.mean()\n",
    "        string = \"{} {}\\n\".format(energy,df.mean().loc[1])\n",
    "        f.write(string)"
   ]
  },
  {
   "cell_type": "code",
   "execution_count": 16,
   "metadata": {},
   "outputs": [],
   "source": [
    "with open(\"heru_time.dat\",\"w\") as f:\n",
    "    for energy in range(1000,5001,100):\n",
    "        df = pd.read_csv(\"heru_{}.csv\".format(energy),header=None)\n",
    "        df.mean()\n",
    "        string = \"{} {}\\n\".format(energy,df.mean().loc[2])\n",
    "        f.write(string)\n",
    "        "
   ]
  },
  {
   "cell_type": "code",
   "execution_count": 17,
   "metadata": {},
   "outputs": [],
   "source": [
    "with open(\"alg_time.dat\",\"w\") as f:\n",
    "    for energy in range(1000,5001,100):\n",
    "        df = pd.read_csv(\"alg_{}.csv\".format(energy),header=None)\n",
    "        df.mean()\n",
    "        string = \"{} {}\\n\".format(energy,df.mean().loc[2])\n",
    "        f.write(string)"
   ]
  },
  {
   "cell_type": "code",
   "execution_count": 18,
   "metadata": {},
   "outputs": [
    {
     "data": {
      "text/plain": [
       "0.05354669809341431"
      ]
     },
     "execution_count": 18,
     "metadata": {},
     "output_type": "execute_result"
    }
   ],
   "source": [
    "df.mean().loc[2]"
   ]
  },
  {
   "cell_type": "code",
   "execution_count": 28,
   "metadata": {},
   "outputs": [],
   "source": [
    "heru_profit = []\n",
    "\n",
    "for energy in range(1000,5001,100):\n",
    "    df = pd.read_csv(\"heru_{}.csv\".format(energy),header=None)\n",
    "    heru_profit.append(df.mean().loc[1]) \n",
    "alg_profit = []\n",
    "for energy in range(1000,5001,100):\n",
    "    df = pd.read_csv(\"alg_{}.csv\".format(energy),header=None)\n",
    "    df.mean()\n",
    "    alg_profit.append(df.mean().loc[1])"
   ]
  },
  {
   "cell_type": "code",
   "execution_count": 29,
   "metadata": {},
   "outputs": [
    {
     "data": {
      "text/plain": [
       "41"
      ]
     },
     "execution_count": 29,
     "metadata": {},
     "output_type": "execute_result"
    }
   ],
   "source": [
    "len(heru_profit)"
   ]
  },
  {
   "cell_type": "code",
   "execution_count": 31,
   "metadata": {},
   "outputs": [
    {
     "data": {
      "text/plain": [
       "[<matplotlib.lines.Line2D at 0x7f8c64334160>]"
      ]
     },
     "execution_count": 31,
     "metadata": {},
     "output_type": "execute_result"
    },
    {
     "data": {
      "image/png": "[encoded data removed]",
      "text/plain": [
       "<Figure size 432x288 with 1 Axes>"
      ]
     },
     "metadata": {
      "needs_background": "light"
     },
     "output_type": "display_data"
    }
   ],
   "source": [
    "plt.plot(range(1000,5001,100),heru_profit)\n",
    "plt.plot(range(1000,5001,100),alg_profit)"
   ]
  },
  {
   "cell_type": "code",
   "execution_count": null,
   "metadata": {},
   "outputs": [],
   "source": []
  }
 ],
 "metadata": {
  "kernelspec": {
   "display_name": "Python 3",
   "language": "python",
   "name": "python3"
  },
  "language_info": {
   "codemirror_mode": {
    "name": "ipython",
    "version": 3
   },
   "file_extension": ".py",
   "mimetype": "text/x-python",
   "name": "python",
   "nbconvert_exporter": "python",
   "pygments_lexer": "ipython3",
   "version": "3.7.3"
  }
 },
 "nbformat": 4,
 "nbformat_minor": 2
}
